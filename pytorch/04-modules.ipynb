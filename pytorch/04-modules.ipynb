{
 "cells": [
  {
   "cell_type": "markdown",
   "id": "343247d5-0535-42fa-92c6-52e3f2e7073b",
   "metadata": {},
   "source": [
    "## Custom network modules"
   ]
  },
  {
   "cell_type": "markdown",
   "id": "e050e5cd-265f-436e-babd-14a6597132ec",
   "metadata": {},
   "source": [
    "The `nn.Module` subpackage in PyTorch is an essential tool for developing neural networks. It provides a base class for all neural network modules in PyTorch, which can be used to define new neural network modules. The nn.Module class provides several methods that can be overridden to define the forward pass of a neural network module. This allows developers to easily create complex neural network architectures by combining simpler modules together. Overall, the nn.Module subpackage is an important part of PyTorch that makes it easy to develop and train neural networks."
   ]
  }
 ],
 "metadata": {
  "kernelspec": {
   "display_name": "Python 3 (ipykernel)",
   "language": "python",
   "name": "python3"
  },
  "language_info": {
   "codemirror_mode": {
    "name": "ipython",
    "version": 3
   },
   "file_extension": ".py",
   "mimetype": "text/x-python",
   "name": "python",
   "nbconvert_exporter": "python",
   "pygments_lexer": "ipython3",
   "version": "3.10.9"
  }
 },
 "nbformat": 4,
 "nbformat_minor": 5
}
